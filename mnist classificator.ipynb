{
 "cells": [
  {
   "cell_type": "code",
   "execution_count": 11,
   "id": "a1d36f03-0812-49f0-a9ba-de3dac7b9b4a",
   "metadata": {},
   "outputs": [
    {
     "name": "stdout",
     "output_type": "stream",
     "text": [
      "Model: \"sequential_5\"\n",
      "_________________________________________________________________\n",
      " Layer (type)                Output Shape              Param #   \n",
      "=================================================================\n",
      " flatten_5 (Flatten)         (None, 784)               0         \n",
      "                                                                 \n",
      " dense_10 (Dense)            (None, 1568)              1230880   \n",
      "                                                                 \n",
      " dense_11 (Dense)            (None, 10)                15690     \n",
      "                                                                 \n",
      "=================================================================\n",
      "Total params: 1,246,570\n",
      "Trainable params: 1,246,570\n",
      "Non-trainable params: 0\n",
      "_________________________________________________________________\n",
      "Epoch 1/5\n",
      "1875/1875 [==============================] - 16s 8ms/step - loss: 0.2993 - acc: 0.9156 - val_loss: 0.1931 - val_acc: 0.9473\n",
      "Epoch 2/5\n",
      "1875/1875 [==============================] - 16s 9ms/step - loss: 0.1670 - acc: 0.9521 - val_loss: 0.1547 - val_acc: 0.9531\n",
      "Epoch 3/5\n",
      "1875/1875 [==============================] - 15s 8ms/step - loss: 0.1296 - acc: 0.9627 - val_loss: 0.1303 - val_acc: 0.9606\n",
      "Epoch 4/5\n",
      "1875/1875 [==============================] - 15s 8ms/step - loss: 0.1055 - acc: 0.9700 - val_loss: 0.1160 - val_acc: 0.9636\n",
      "Epoch 5/5\n",
      "1875/1875 [==============================] - 16s 8ms/step - loss: 0.0883 - acc: 0.9744 - val_loss: 0.1122 - val_acc: 0.9654\n",
      "0.9654\n"
     ]
    }
   ],
   "source": [
    "import numpy as np\n",
    "import matplotlib.pyplot as plt\n",
    "from tensorflow.keras.layers import Dense, Flatten, Reshape\n",
    "from tensorflow.keras.models import Sequential\n",
    "from tensorflow.keras.utils import to_categorical\n",
    "from tensorflow.keras.datasets import mnist\n",
    "from sklearn.metrics import accuracy_score\n",
    "\n",
    "(X_train,y_train),(X_test,y_test)=mnist.load_data()\n",
    "y_true=y_test\n",
    "temp=[]\n",
    "for i in range(len(y_train)):\n",
    "    temp.append(to_categorical(y_train[i], num_classes=10))\n",
    "y_train=np.array(temp)\n",
    "temp=[]\n",
    "for i in range(len(y_test)):\n",
    "    temp.append(to_categorical(y_test[i],num_classes=10))\n",
    "y_test=np.array(temp)\n",
    "\n",
    "model=Sequential()\n",
    "model.add(Flatten(input_shape=(28,28)))\n",
    "model.add(Dense(28*28*2,activation='sigmoid'))\n",
    "model.add(Dense(10,activation='softmax'))\n",
    "model.compile(loss='categorical_crossentropy',optimizer='adamax',metrics=['acc'])\n",
    "model.fit(X_train,y_train,epochs=5,validation_data=(X_test,y_test))\n",
    "pred=model.predict(X_test)\n",
    "pred=np.argmax(pred,axis=1)\n",
    "print(accuracy_score(y_true,pred))"
   ]
  }
 ],
 "metadata": {
  "kernelspec": {
   "display_name": "Python 3 (ipykernel)",
   "language": "python",
   "name": "python3"
  },
  "language_info": {
   "codemirror_mode": {
    "name": "ipython",
    "version": 3
   },
   "file_extension": ".py",
   "mimetype": "text/x-python",
   "name": "python",
   "nbconvert_exporter": "python",
   "pygments_lexer": "ipython3",
   "version": "3.10.2"
  }
 },
 "nbformat": 4,
 "nbformat_minor": 5
}
